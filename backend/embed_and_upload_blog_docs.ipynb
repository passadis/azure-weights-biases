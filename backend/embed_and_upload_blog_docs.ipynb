{
 "cells": [
  {
   "cell_type": "markdown",
   "id": "71e35655",
   "metadata": {},
   "source": [
    "# Embed and Upload Blog Content to Azure AI Search (OpenAI >= 1.0.0)"
   ]
  },
  {
   "cell_type": "code",
   "execution_count": null,
   "id": "016e744c",
   "metadata": {},
   "outputs": [],
   "source": [
    "import json\n",
    "import os\n",
    "from dotenv import load_dotenv\n",
    "from azure.core.credentials import AzureKeyCredential\n",
    "from azure.search.documents import SearchClient\n",
    "from openai import AzureOpenAI\n",
    "\n",
    "# Load environment variables\n",
    "load_dotenv()\n",
    "\n",
    "# Azure OpenAI config\n",
    "client = AzureOpenAI(\n",
    "    api_key=os.getenv(\"AZURE_OPENAI_KEY\"),\n",
    "    api_version=\"2024-02-01\",\n",
    "    azure_endpoint=os.getenv(\"AZURE_OPENAI_ENDPOINT\")\n",
    ")\n",
    "embedding_model = os.getenv(\"AZURE_OPENAI_EMBEDDING_DEPLOYMENT\")\n",
    "\n",
    "# Azure Cognitive Search config\n",
    "search_client = SearchClient(\n",
    "    endpoint=os.getenv(\"AZURE_SEARCH_ENDPOINT\"),\n",
    "    index_name=os.getenv(\"AZURE_SEARCH_INDEX\"),\n",
    "    credential=AzureKeyCredential(os.getenv(\"AZURE_SEARCH_KEY\"))\n",
    ")"
   ]
  },
  {
   "cell_type": "code",
   "execution_count": null,
   "id": "3a4c4e2f",
   "metadata": {},
   "outputs": [],
   "source": [
    "# Load blog content JSON\n",
    "with open(\"blog_documents.json\", \"r\", encoding=\"utf-8\") as f:\n",
    "    documents = json.load(f)"
   ]
  },
  {
   "cell_type": "code",
   "execution_count": null,
   "id": "43933ba9",
   "metadata": {},
   "outputs": [],
   "source": [
    "uploaded = 0\n",
    "for doc in documents:\n",
    "    try:\n",
    "        print(f\"Embedding doc {doc['id']} with model: {embedding_model}\")\n",
    "        response = client.embeddings.create(\n",
    "            input=doc[\"content\"],\n",
    "            model=embedding_model\n",
    "        )\n",
    "        embedding = response.data[0].embedding\n",
    "\n",
    "        enriched_doc = {\n",
    "            \"id\": doc[\"id\"],\n",
    "            \"content\": doc[\"content\"],\n",
    "            \"category\": doc.get(\"category\", \"general\"),\n",
    "            \"source\": doc.get(\"source\", \"unknown\"),\n",
    "            \"contentVector\": embedding\n",
    "        }\n",
    "\n",
    "        search_client.upload_documents([enriched_doc])\n",
    "        uploaded += 1\n",
    "\n",
    "    except Exception as e:\n",
    "        print(f\"❌ Failed for doc {doc['id']}: {e}\")\n",
    "\n",
    "print(f\"✅ Uploaded {uploaded} documents to Azure AI Search.\")\n"
   ]
  }
 ],
 "metadata": {
  "kernelspec": {
   "display_name": "Python 3",
   "language": "python",
   "name": "python3"
  },
  "language_info": {
   "codemirror_mode": {
    "name": "ipython",
    "version": 3
   },
   "file_extension": ".py",
   "mimetype": "text/x-python",
   "name": "python",
   "nbconvert_exporter": "python",
   "pygments_lexer": "ipython3",
   "version": "3.13.1"
  }
 },
 "nbformat": 4,
 "nbformat_minor": 5
}
