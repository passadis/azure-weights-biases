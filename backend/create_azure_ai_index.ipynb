{
 "cells": [
  {
   "cell_type": "markdown",
   "id": "f9694e01",
   "metadata": {},
   "source": [
    "# Azure AI Search Index Creation"
   ]
  },
  {
   "cell_type": "code",
   "execution_count": null,
   "id": "c9b81cb0",
   "metadata": {},
   "outputs": [],
   "source": [
    "# Install the required Azure packages\n",
    "# Install the required Azure packages and python-dotenv for reading .env files\n",
    "%pip install azure-core azure-search-documents python-dotenv"
   ]
  },
  {
   "cell_type": "code",
   "execution_count": 26,
   "id": "ea4178dd",
   "metadata": {},
   "outputs": [
    {
     "name": "stdout",
     "output_type": "stream",
     "text": [
      "Index 'rag-index' created or updated.\n"
     ]
    }
   ],
   "source": [
    "from azure.core.credentials import AzureKeyCredential\n",
    "from azure.search.documents.indexes import SearchIndexClient\n",
    "from azure.search.documents.indexes.models import (\n",
    "    SearchIndex, SimpleField, SearchableField, SearchFieldDataType, SearchField, HnswAlgorithmConfiguration,\n",
    "    VectorSearch, VectorSearchProfile, SemanticField, SemanticConfiguration, SemanticPrioritizedFields, SemanticSearch\n",
    ")\n",
    "from dotenv import load_dotenv\n",
    "load_dotenv()\n",
    "\n",
    "import os\n",
    "\n",
    "endpoint = os.getenv(\"AZURE_SEARCH_ENDPOINT\")\n",
    "key = os.getenv(\"AZURE_SEARCH_KEY\")\n",
    "index_name = \"rag-index\"\n",
    "\n",
    "client = SearchIndexClient(endpoint=endpoint, credential=AzureKeyCredential(key))\n",
    "\n",
    "fields = [\n",
    "    SimpleField(name=\"id\", type=\"Edm.String\", key=True),\n",
    "    SearchableField(name=\"content\", type=\"Edm.String\"),\n",
    "    SimpleField(name=\"category\", type=\"Edm.String\", filterable=True),\n",
    "    SimpleField(name=\"source\", type=\"Edm.String\"),\n",
    "    SearchField(name=\"contentVector\", type=SearchFieldDataType.Collection(SearchFieldDataType.Single), searchable=True, vector_search_dimensions=1536, vector_search_profile_name=\"userHnswProfile\")\n",
    "]\n",
    "\n",
    "# Define vector search configurations\n",
    "vector_search = VectorSearch(\n",
    "    algorithms=[\n",
    "        HnswAlgorithmConfiguration(\n",
    "            name=\"userHnsw\",\n",
    "            parameters={\n",
    "                \"m\": 8,\n",
    "                \"efConstruction\": 800,\n",
    "                \"efSearch\": 800,\n",
    "                \"metric\": \"cosine\"\n",
    "            }\n",
    "        )\n",
    "    ],\n",
    "    profiles=[\n",
    "        VectorSearchProfile(\n",
    "            name=\"userHnswProfile\",\n",
    "            algorithm_configuration_name=\"userHnsw\",\n",
    "        )\n",
    "    ]\n",
    ")\n",
    "\n",
    "\n",
    "\n",
    "\n",
    "index = SearchIndex(\n",
    "    name=index_name,\n",
    "    fields=fields,\n",
    "    vector_search=vector_search,\n",
    "    semantic_search=SemanticSearch(\n",
    "        configurations=[\n",
    "            SemanticConfiguration(\n",
    "                name=\"default\",\n",
    "                prioritized_fields=SemanticPrioritizedFields(\n",
    "                    keywords_fields=[\n",
    "                        SemanticField(field_name=\"content\")\n",
    "                    ]\n",
    "                )\n",
    "            )\n",
    "        ]\n",
    "    )\n",
    ")\n",
    "\n",
    "# Create or update the index\n",
    "client.create_or_update_index(index)\n",
    "print(f\"Index '{index_name}' created or updated.\")\n",
    "\n",
    "# # Add the Embedding and searchContent fields to the existing index\n",
    "# additional_fields = [\n",
    "#     SearchField(name=\"Embedding\", type=SearchFieldDataType.Collection(SearchFieldDataType.Single), retrievable=True, searchable=True, vector_search_dimensions=1536, vector_search_profile_name=\"userHnswProfile\"),\n",
    "#     SearchField(name=\"searchContent\", type=SearchFieldDataType.String, searchable=True)\n",
    "# ]\n",
    "\n",
    "# # Retrieve the existing index\n",
    "# existing_index = index_client.get_index(search_index_name)\n",
    "# existing_index.fields.extend(additional_fields)\n",
    "\n",
    "# # Update the index with the new fields\n",
    "# result = index_client.create_or_update_index(existing_index)\n",
    "# print(f'Index {result.name} updated with additional fields')\n"
   ]
  }
 ],
 "metadata": {
  "kernelspec": {
   "display_name": "Python 3",
   "language": "python",
   "name": "python3"
  },
  "language_info": {
   "codemirror_mode": {
    "name": "ipython",
    "version": 3
   },
   "file_extension": ".py",
   "mimetype": "text/x-python",
   "name": "python",
   "nbconvert_exporter": "python",
   "pygments_lexer": "ipython3",
   "version": "3.13.1"
  }
 },
 "nbformat": 4,
 "nbformat_minor": 5
}
